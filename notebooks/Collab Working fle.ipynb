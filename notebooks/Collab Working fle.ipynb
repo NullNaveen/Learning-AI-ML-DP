{
  "cells": [
    {
      "cell_type": "code",
      "execution_count": 1,
      "id": "2f21dddf-fd0b-4f73-9b98-9e255706c5a8",
      "metadata": {
        "colab": {
          "base_uri": "https://localhost:8080/"
        },
        "id": "2f21dddf-fd0b-4f73-9b98-9e255706c5a8",
        "outputId": "83aef147-e9c1-432f-9666-4d282ecdf9e4"
      },
      "outputs": [
        {
          "output_type": "stream",
          "name": "stdout",
          "text": [
            "/usr/bin/python3\n"
          ]
        }
      ],
      "source": [
        "import sys\n",
        "print(sys.executable)"
      ]
    },
    {
      "cell_type": "code",
      "source": [],
      "metadata": {
        "id": "lS9mtrXDIfWv"
      },
      "id": "lS9mtrXDIfWv",
      "execution_count": null,
      "outputs": []
    }
  ],
  "metadata": {
    "kernelspec": {
      "display_name": "Python 3",
      "name": "python3"
    },
    "language_info": {
      "name": "python"
    },
    "colab": {
      "provenance": [],
      "gpuType": "T4"
    },
    "accelerator": "GPU"
  },
  "nbformat": 4,
  "nbformat_minor": 5
}