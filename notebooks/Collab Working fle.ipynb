{
  "cells": [
    {
      "cell_type": "code",
      "execution_count": 1,
      "id": "2f21dddf-fd0b-4f73-9b98-9e255706c5a8",
      "metadata": {
        "colab": {
          "base_uri": "https://localhost:8080/"
        },
        "id": "2f21dddf-fd0b-4f73-9b98-9e255706c5a8",
        "outputId": "8b242ca2-e4d6-4bf4-b6e8-f64e356d0243"
      },
      "outputs": [
        {
          "output_type": "stream",
          "name": "stdout",
          "text": [
            "/usr/bin/python3\n"
          ]
        }
      ],
      "source": [
        "import sys\n",
        "print(sys.executable)"
      ]
    }
  ],
  "metadata": {
    "kernelspec": {
      "display_name": "Python 3",
      "name": "python3"
    },
    "language_info": {
      "name": "python"
    },
    "colab": {
      "provenance": [],
      "gpuType": "T4"
    },
    "accelerator": "GPU"
  },
  "nbformat": 4,
  "nbformat_minor": 5
}